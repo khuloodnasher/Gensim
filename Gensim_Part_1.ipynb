{
  "nbformat": 4,
  "nbformat_minor": 0,
  "metadata": {
    "colab": {
      "name": "Gensim_Part_1.ipynb",
      "provenance": [],
      "authorship_tag": "ABX9TyO8HT/TJ7BcQGy3TU19aBet",
      "include_colab_link": true
    },
    "kernelspec": {
      "name": "python3",
      "display_name": "Python 3"
    },
    "language_info": {
      "name": "python"
    }
  },
  "cells": [
    {
      "cell_type": "markdown",
      "metadata": {
        "id": "view-in-github",
        "colab_type": "text"
      },
      "source": [
        "<a href=\"https://colab.research.google.com/github/khuloodnasher/Gensim/blob/main/Gensim_Part_1.ipynb\" target=\"_parent\"><img src=\"https://colab.research.google.com/assets/colab-badge.svg\" alt=\"Open In Colab\"/></a>"
      ]
    },
    {
      "cell_type": "code",
      "metadata": {
        "colab": {
          "base_uri": "https://localhost:8080/",
          "height": 310
        },
        "id": "Iyc3rlYhuYn0",
        "outputId": "fea15aec-d4e3-4479-8b78-2d247109096a"
      },
      "source": [
        "pip install --upgrade gensim\n"
      ],
      "execution_count": 3,
      "outputs": [
        {
          "output_type": "stream",
          "text": [
            "Collecting gensim\n",
            "\u001b[?25l  Downloading https://files.pythonhosted.org/packages/c3/dd/5e00b6e788a9c522b48f9df10472b2017102ffa65b10bc657471e0713542/gensim-4.0.0-cp37-cp37m-manylinux1_x86_64.whl (23.9MB)\n",
            "\u001b[K     |████████████████████████████████| 23.9MB 1.5MB/s \n",
            "\u001b[?25hRequirement already satisfied, skipping upgrade: scipy>=0.18.1 in /usr/local/lib/python3.7/dist-packages (from gensim) (1.4.1)\n",
            "Requirement already satisfied, skipping upgrade: numpy>=1.11.3 in /usr/local/lib/python3.7/dist-packages (from gensim) (1.19.5)\n",
            "Requirement already satisfied, skipping upgrade: smart-open>=1.8.1 in /usr/local/lib/python3.7/dist-packages (from gensim) (4.2.0)\n",
            "Installing collected packages: gensim\n",
            "  Found existing installation: gensim 3.6.0\n",
            "    Uninstalling gensim-3.6.0:\n",
            "      Successfully uninstalled gensim-3.6.0\n",
            "Successfully installed gensim-4.0.0\n"
          ],
          "name": "stdout"
        },
        {
          "output_type": "display_data",
          "data": {
            "application/vnd.colab-display-data+json": {
              "pip_warning": {
                "packages": [
                  "gensim"
                ]
              }
            }
          },
          "metadata": {
            "tags": []
          }
        }
      ]
    },
    {
      "cell_type": "code",
      "metadata": {
        "colab": {
          "base_uri": "https://localhost:8080/"
        },
        "id": "d-OeN_y-whby",
        "outputId": "732d41c7-9f48-46aa-e0d1-436dc5a75cd9"
      },
      "source": [
        "from google.colab import drive\n",
        "drive.mount('/content/drive/')"
      ],
      "execution_count": 16,
      "outputs": [
        {
          "output_type": "stream",
          "text": [
            "Drive already mounted at /content/drive/; to attempt to forcibly remount, call drive.mount(\"/content/drive/\", force_remount=True).\n"
          ],
          "name": "stdout"
        }
      ]
    },
    {
      "cell_type": "code",
      "metadata": {
        "id": "cv_PIaosu6ud"
      },
      "source": [
        "from gensim import corpora\n"
      ],
      "execution_count": 12,
      "outputs": []
    },
    {
      "cell_type": "markdown",
      "metadata": {
        "id": "fGMJ2h2E4nZ7"
      },
      "source": [
        "Create a dictionary  from a list of sentences"
      ]
    },
    {
      "cell_type": "code",
      "metadata": {
        "id": "r0nOcB6FvkO6"
      },
      "source": [
        "my_documents=[\"There is no better way to dive into other cultures\",\"Netflix is making this easier than ever\",\n",
        "              \"they support regional filmmakers around the world\",\n",
        "\"They  makes their work available to international audiences\"]\n"
      ],
      "execution_count": 5,
      "outputs": []
    },
    {
      "cell_type": "code",
      "metadata": {
        "colab": {
          "base_uri": "https://localhost:8080/"
        },
        "id": "KXIsyYsEyesG",
        "outputId": "25e37554-050f-4c11-ab4f-31883eaa06d5"
      },
      "source": [
        "# Tokenizing\n",
        "texts=[[text for text in doc.split()] for doc in my_documents]\n",
        "print(texts)\n",
        "my_dictionary=corpora.Dictionary(texts)\n",
        "\n",
        "print(\"\\n\",my_dictionary)\n",
        "\n",
        "print(\"\\n\",my_dictionary.token2id)\n",
        "\n"
      ],
      "execution_count": 6,
      "outputs": [
        {
          "output_type": "stream",
          "text": [
            "[['There', 'is', 'no', 'better', 'way', 'to', 'dive', 'into', 'other', 'cultures'], ['Netflix', 'is', 'making', 'this', 'easier', 'than', 'ever'], ['they', 'support', 'regional', 'filmmakers', 'around', 'the', 'world'], ['They', 'makes', 'their', 'work', 'available', 'to', 'international', 'audiences']]\n",
            "\n",
            " Dictionary(30 unique tokens: ['There', 'better', 'cultures', 'dive', 'into']...)\n",
            "\n",
            " {'There': 0, 'better': 1, 'cultures': 2, 'dive': 3, 'into': 4, 'is': 5, 'no': 6, 'other': 7, 'to': 8, 'way': 9, 'Netflix': 10, 'easier': 11, 'ever': 12, 'making': 13, 'than': 14, 'this': 15, 'around': 16, 'filmmakers': 17, 'regional': 18, 'support': 19, 'the': 20, 'they': 21, 'world': 22, 'They': 23, 'audiences': 24, 'available': 25, 'international': 26, 'makes': 27, 'their': 28, 'work': 29}\n"
          ],
          "name": "stdout"
        }
      ]
    },
    {
      "cell_type": "code",
      "metadata": {
        "colab": {
          "base_uri": "https://localhost:8080/"
        },
        "id": "moDcpxiEzdPB",
        "outputId": "b645a839-0b83-41a1-8419-815bd164a9f6"
      },
      "source": [
        "# displaying  my dictionary in vertical order\n",
        "tokens=[[token for token in sentence.split()] for sentence in my_documents]\n",
        "gensim_dictionary=corpora.Dictionary(tokens)\n",
        "for word,id in gensim_dictionary.token2id.items():\n",
        "    print(f'{word:{12}} {id:{10}}')\n",
        " \n"
      ],
      "execution_count": 7,
      "outputs": [
        {
          "output_type": "stream",
          "text": [
            "There                 0\n",
            "better                1\n",
            "cultures              2\n",
            "dive                  3\n",
            "into                  4\n",
            "is                    5\n",
            "no                    6\n",
            "other                 7\n",
            "to                    8\n",
            "way                   9\n",
            "Netflix              10\n",
            "easier               11\n",
            "ever                 12\n",
            "making               13\n",
            "than                 14\n",
            "this                 15\n",
            "around               16\n",
            "filmmakers           17\n",
            "regional             18\n",
            "support              19\n",
            "the                  20\n",
            "they                 21\n",
            "world                22\n",
            "They                 23\n",
            "audiences            24\n",
            "available            25\n",
            "international         26\n",
            "makes                27\n",
            "their                28\n",
            "work                 29\n"
          ],
          "name": "stdout"
        }
      ]
    },
    {
      "cell_type": "markdown",
      "metadata": {
        "id": "6N9L9srkx7dz"
      },
      "source": [
        "Reading Text file by gensim"
      ]
    },
    {
      "cell_type": "code",
      "metadata": {
        "id": "iZZSkxMxBs7k",
        "colab": {
          "base_uri": "https://localhost:8080/"
        },
        "outputId": "d67dded0-ade5-42df-9634-7e5a31d3be80"
      },
      "source": [
        "from gensim.utils import simple_preprocess\n",
        "from gensim import corpora\n",
        "# create gensim dictionary from a single txt file\n",
        "dictionary=corpora.Dictionary(simple_preprocess(line,deacc=True)\n",
        "for line in open('/content/drive/MyDrive/NLU.txt',encoding=\"utf-8\"))\n",
        "print(dictionary.token2id)\n"
      ],
      "execution_count": 18,
      "outputs": [
        {
          "output_type": "stream",
          "text": [
            "{'ability': 0, 'across': 1, 'after': 2, 'algorithm': 3, 'all': 4, 'also': 5, 'among': 6, 'and': 7, 'apple': 8, 'applied': 9, 'art': 10, 'as': 11, 'associated': 12, 'at': 13, 'be': 14, 'before': 15, 'building': 16, 'closely': 17, 'code': 18, 'collaborating': 19, 'concrete': 20, 'conjunction': 21, 'deep': 22, 'design': 23, 'developed': 24, 'device': 25, 'do': 26, 'emphasis': 27, 'empirical': 28, 'engineering': 29, 'entire': 30, 'experience': 31, 'experiences': 32, 'experimentation': 33, 'facing': 34, 'feature': 35, 'features': 36, 'for': 37, 'foundational': 38, 'frameworks': 39, 'from': 40, 'fundamentals': 41, 'gamut': 42, 'hands': 43, 'harness': 44, 'implementation': 45, 'important': 46, 'in': 47, 'inputs': 48, 'integrate': 49, 'intersection': 50, 'into': 51, 'is': 52, 'language': 53, 'launch': 54, 'learning': 55, 'leverage': 56, 'machine': 57, 'member': 58, 'ml': 59, 'modal': 60, 'models': 61, 'most': 62, 'multi': 63, 'multiple': 64, 'natural': 65, 'nlp': 66, 'of': 67, 'on': 68, 'organizations': 69, 'os': 70, 'our': 71, 'platforms': 72, 'position': 73, 'primary': 74, 'processing': 75, 'product': 76, 'production': 77, 'productizing': 78, 'proven': 79, 'quality': 80, 'range': 81, 'required': 82, 'requires': 83, 'research': 84, 'responsible': 85, 'role': 86, 'several': 87, 'since': 88, 'skillsets': 89, 'software': 90, 'solutions': 91, 'spans': 92, 'stack': 93, 'state': 94, 'strong': 95, 'team': 96, 'teams': 97, 'text': 98, 'that': 99, 'the': 100, 'them': 101, 'this': 102, 'to': 103, 'translate': 104, 'understanding': 105, 'user': 106, 'we': 107, 'will': 108, 'with': 109, 'work': 110, 'working': 111, 'would': 112, 'you': 113}\n"
          ],
          "name": "stdout"
        }
      ]
    },
    {
      "cell_type": "code",
      "metadata": {
        "id": "y67dp1xtltOR"
      },
      "source": [
        ""
      ],
      "execution_count": null,
      "outputs": []
    }
  ]
}