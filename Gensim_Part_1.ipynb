{
  "nbformat": 4,
  "nbformat_minor": 0,
  "metadata": {
    "colab": {
      "name": "Gensim_Part_1.ipynb",
      "provenance": [],
      "authorship_tag": "ABX9TyNl0WI1/ybVafeeedxIGfBq",
      "include_colab_link": true
    },
    "kernelspec": {
      "name": "python3",
      "display_name": "Python 3"
    },
    "language_info": {
      "name": "python"
    }
  },
  "cells": [
    {
      "cell_type": "markdown",
      "metadata": {
        "id": "view-in-github",
        "colab_type": "text"
      },
      "source": [
        "<a href=\"https://colab.research.google.com/github/khuloodnasher/Gensim/blob/main/Gensim_Part_1.ipynb\" target=\"_parent\"><img src=\"https://colab.research.google.com/assets/colab-badge.svg\" alt=\"Open In Colab\"/></a>"
      ]
    },
    {
      "cell_type": "code",
      "metadata": {
        "colab": {
          "base_uri": "https://localhost:8080/"
        },
        "id": "Iyc3rlYhuYn0",
        "outputId": "b48e457e-35c2-4e21-ef89-771c5585356b"
      },
      "source": [
        "pip install --upgrade gensim\n"
      ],
      "execution_count": null,
      "outputs": [
        {
          "output_type": "stream",
          "text": [
            "Collecting gensim\n",
            "\u001b[?25l  Downloading https://files.pythonhosted.org/packages/c3/dd/5e00b6e788a9c522b48f9df10472b2017102ffa65b10bc657471e0713542/gensim-4.0.0-cp37-cp37m-manylinux1_x86_64.whl (23.9MB)\n",
            "\u001b[K     |████████████████████████████████| 23.9MB 1.4MB/s \n",
            "\u001b[?25hRequirement already satisfied, skipping upgrade: scipy>=0.18.1 in /usr/local/lib/python3.7/dist-packages (from gensim) (1.4.1)\n",
            "Requirement already satisfied, skipping upgrade: numpy>=1.11.3 in /usr/local/lib/python3.7/dist-packages (from gensim) (1.19.5)\n",
            "Requirement already satisfied, skipping upgrade: smart-open>=1.8.1 in /usr/local/lib/python3.7/dist-packages (from gensim) (4.2.0)\n",
            "Installing collected packages: gensim\n",
            "  Found existing installation: gensim 3.6.0\n",
            "    Uninstalling gensim-3.6.0:\n",
            "      Successfully uninstalled gensim-3.6.0\n",
            "Successfully installed gensim-4.0.0\n"
          ],
          "name": "stdout"
        }
      ]
    },
    {
      "cell_type": "code",
      "metadata": {
        "colab": {
          "base_uri": "https://localhost:8080/"
        },
        "id": "cv_PIaosu6ud",
        "outputId": "0e979fb9-82f5-4311-f901-40fa5f955c88"
      },
      "source": [
        "from gensim import corpora\n"
      ],
      "execution_count": null,
      "outputs": [
        {
          "output_type": "stream",
          "text": [
            "/usr/local/lib/python3.7/dist-packages/gensim/similarities/__init__.py:15: UserWarning: The gensim.similarities.levenshtein submodule is disabled, because the optional Levenshtein package <https://pypi.org/project/python-Levenshtein/> is unavailable. Install Levenhstein (e.g. `pip install python-Levenshtein`) to suppress this warning.\n",
            "  warnings.warn(msg)\n"
          ],
          "name": "stderr"
        }
      ]
    },
    {
      "cell_type": "markdown",
      "metadata": {
        "id": "fGMJ2h2E4nZ7"
      },
      "source": [
        "Create a dictionary  from a list of sentences"
      ]
    },
    {
      "cell_type": "code",
      "metadata": {
        "id": "r0nOcB6FvkO6"
      },
      "source": [
        "my_documents=[\"There is no better way to dive into other cultures\",\"Netflix is making this easier than ever\",\n",
        "              \"they support regional filmmakers around the world\",\n",
        "\"They  makes their work available to international audiences\"]\n"
      ],
      "execution_count": null,
      "outputs": []
    },
    {
      "cell_type": "code",
      "metadata": {
        "colab": {
          "base_uri": "https://localhost:8080/"
        },
        "id": "KXIsyYsEyesG",
        "outputId": "1dbc28d1-98c1-459e-f170-b42556097be2"
      },
      "source": [
        "# Tokenizing\n",
        "texts=[[text for text in doc.split()] for doc in my_documents]\n",
        "print(texts)\n",
        "my_dictionary=corpora.Dictionary(texts)\n",
        "\n",
        "print(\"\\n\",my_dictionary)\n",
        "\n",
        "print(\"\\n\",my_dictionary.token2id)\n",
        "\n"
      ],
      "execution_count": null,
      "outputs": [
        {
          "output_type": "stream",
          "text": [
            "[['There', 'is', 'no', 'better', 'way', 'to', 'dive', 'into', 'other', 'cultures'], ['Netflix', 'is', 'making', 'this', 'easier', 'than', 'ever'], ['they', 'support', 'regional', 'filmmakers', 'around', 'the', 'world'], ['They', 'makes', 'their', 'work', 'available', 'to', 'international', 'audiences']]\n",
            "\n",
            " Dictionary(30 unique tokens: ['There', 'better', 'cultures', 'dive', 'into']...)\n",
            "\n",
            " {'There': 0, 'better': 1, 'cultures': 2, 'dive': 3, 'into': 4, 'is': 5, 'no': 6, 'other': 7, 'to': 8, 'way': 9, 'Netflix': 10, 'easier': 11, 'ever': 12, 'making': 13, 'than': 14, 'this': 15, 'around': 16, 'filmmakers': 17, 'regional': 18, 'support': 19, 'the': 20, 'they': 21, 'world': 22, 'They': 23, 'audiences': 24, 'available': 25, 'international': 26, 'makes': 27, 'their': 28, 'work': 29}\n"
          ],
          "name": "stdout"
        }
      ]
    },
    {
      "cell_type": "code",
      "metadata": {
        "colab": {
          "base_uri": "https://localhost:8080/"
        },
        "id": "moDcpxiEzdPB",
        "outputId": "9b10fa21-9f2b-46c8-fdaf-df0c69c41fcd"
      },
      "source": [
        "# displaying  my dictionary in vertical order\n",
        "tokens=[[token for token in sentence.split()] for sentence in my_documents]\n",
        "gensim_dictionary=corpora.Dictionary(tokens)\n",
        "for word,id in gensim_dictionary.token2id.items():\n",
        "    print(f'{word:{12}} {id:{10}}')\n",
        " \n"
      ],
      "execution_count": null,
      "outputs": [
        {
          "output_type": "stream",
          "text": [
            "There                 0\n",
            "better                1\n",
            "cultures              2\n",
            "dive                  3\n",
            "into                  4\n",
            "is                    5\n",
            "no                    6\n",
            "other                 7\n",
            "to                    8\n",
            "way                   9\n",
            "Netflix              10\n",
            "easier               11\n",
            "ever                 12\n",
            "making               13\n",
            "than                 14\n",
            "this                 15\n",
            "around               16\n",
            "filmmakers           17\n",
            "regional             18\n",
            "support              19\n",
            "the                  20\n",
            "they                 21\n",
            "world                22\n",
            "They                 23\n",
            "audiences            24\n",
            "available            25\n",
            "international         26\n",
            "makes                27\n",
            "their                28\n",
            "work                 29\n"
          ],
          "name": "stdout"
        }
      ]
    },
    {
      "cell_type": "code",
      "metadata": {
        "id": "iZZSkxMxBs7k"
      },
      "source": [
        ""
      ],
      "execution_count": null,
      "outputs": []
    }
  ]
}